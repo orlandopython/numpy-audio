{
 "cells": [
  {
   "cell_type": "code",
   "execution_count": 1,
   "metadata": {},
   "outputs": [],
   "source": [
    "import IPython.display as ipd\n",
    "import matplotlib.pyplot as plot\n",
    "import numpy as np\n",
    "from ipywidgets import interact"
   ]
  },
  {
   "cell_type": "code",
   "execution_count": 60,
   "metadata": {},
   "outputs": [],
   "source": [
    "SAMPLE_RATE = 22050"
   ]
  },
  {
   "cell_type": "code",
   "execution_count": 61,
   "metadata": {},
   "outputs": [],
   "source": [
    "def make_audio(source_hz: float, modulator_hz: float, wobble: float, duration_s: float) -> np.array:\n",
    "    # Create a linear time sample\n",
    "    n_samples = np.arange(SAMPLE_RATE * duration_s) / SAMPLE_RATE\n",
    "    # Convert the time series into a uniform sine wave\n",
    "    # Aka monotonal sound\n",
    "    source = np.sin(2 * np.pi * source_hz * n_samples)\n",
    "    # Create modulator at a different frequency\n",
    "    source2 = np.sin(2 * np.pi * modulator_hz * n_samples)\n",
    "    modulator = 0.5 * (1.0 + wobble * source2)\n",
    "    # Modulate with constructive and destructive interference\n",
    "    return source * modulator"
   ]
  },
  {
   "cell_type": "code",
   "execution_count": 62,
   "metadata": {},
   "outputs": [],
   "source": [
    "def audio_handler(source_hz: float, modulator_hz: float, wobble: float, duration_s: float):\n",
    "    audio_data = make_audio(source_hz, modulator_hz, wobble, duration_s)\n",
    "    print(audio_data)\n",
    "    plot.plot(audio_data[:2000])\n",
    "    return ipd.Audio(audio_data, rate=SAMPLE_RATE)"
   ]
  },
  {
   "cell_type": "code",
   "execution_count": 63,
   "metadata": {},
   "outputs": [
    {
     "data": {
      "application/vnd.jupyter.widget-view+json": {
       "model_id": "a3e0631af46241a18fb330a7d86b5f91",
       "version_major": 2,
       "version_minor": 0
      },
      "text/plain": [
       "interactive(children=(FloatSlider(value=400.0, description='source_hz', max=600.0, min=200.0), FloatSlider(val…"
      ]
     },
     "metadata": {},
     "output_type": "display_data"
    }
   ],
   "source": [
    "interact(\n",
    "    audio_handler,\n",
    "    source_hz=(200.0, 600.0),\n",
    "    modulator_hz=(0, 100.0),\n",
    "    wobble=(0, 1.0),\n",
    "    duration_s=(1.0, 10.0)\n",
    ");"
   ]
  },
  {
   "cell_type": "code",
   "execution_count": null,
   "metadata": {},
   "outputs": [],
   "source": []
  }
 ],
 "metadata": {
  "kernelspec": {
   "display_name": "Python 3",
   "language": "python",
   "name": "python3"
  },
  "language_info": {
   "codemirror_mode": {
    "name": "ipython",
    "version": 3
   },
   "file_extension": ".py",
   "mimetype": "text/x-python",
   "name": "python",
   "nbconvert_exporter": "python",
   "pygments_lexer": "ipython3",
   "version": "3.7.3"
  }
 },
 "nbformat": 4,
 "nbformat_minor": 2
}
